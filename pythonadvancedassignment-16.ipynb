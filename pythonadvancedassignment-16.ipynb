{
 "cells": [
  {
   "cell_type": "markdown",
   "id": "1cae3c79",
   "metadata": {},
   "source": [
    "Q1. What is the benefit of regular expressions?\n",
    "\n",
    "Q2. Describe the difference between the effects of &quot;(ab)c+&quot; and &quot;a(bc)+.&quot; Which of these, if any, is the\n",
    "unqualified pattern &quot;abc+&quot;?\n",
    "\n",
    "Q3. How much do you need to use the following sentence while using regular expressions?\n",
    "\n",
    "import re\n",
    "\n",
    "Q4. Which characters have special significance in square brackets when expressing a range, and\n",
    "under what circumstances?\n",
    "\n",
    "Q5. How does compiling a regular-expression object benefit you?\n",
    "\n",
    "Q6. What are some examples of how to use the match object returned by re.match and re.search?\n",
    "\n",
    "Q7. What is the difference between using a vertical bar (|) as an alteration and using square brackets\n",
    "as a character set?\n",
    "\n",
    "Q8. In regular-expression search patterns, why is it necessary to use the raw-string indicator (r)? In  \n",
    "replacement strings?"
   ]
  },
  {
   "cell_type": "markdown",
   "id": "93b00620",
   "metadata": {},
   "source": [
    "1.Regular expression is used to match the given pattern.We first have to specify the pattern and then match the input."
   ]
  },
  {
   "cell_type": "markdown",
   "id": "9a8b5203",
   "metadata": {},
   "source": [
    "2.The difference between these two expressions is that the first expression has an extra term “ab”, which is not present in the second expression. This means that the first expression will be true when either “(ab)c” or “ab” is true, while the second expression will only be true when “a(bc)” or “bc” is true."
   ]
  },
  {
   "cell_type": "markdown",
   "id": "45f815df",
   "metadata": {},
   "source": [
    "3.import re is used to import the search library and it is important to import this library because it is used to match the pettern."
   ]
  },
  {
   "cell_type": "markdown",
   "id": "7b00bddb",
   "metadata": {},
   "source": [
    "4.Square bracket is used for list expression."
   ]
  },
  {
   "cell_type": "markdown",
   "id": "4180b72a",
   "metadata": {},
   "source": [
    "5. When we compile a regular expression pattern, we get an object that acts like an identifier data that we can use anywhere in the program when we want to match the same patterns "
   ]
  },
  {
   "cell_type": "markdown",
   "id": "59ca3de4",
   "metadata": {},
   "source": [
    "6. re.match and re.search both are same , both can give the same result but the expressions are different."
   ]
  },
  {
   "cell_type": "markdown",
   "id": "00738c7b",
   "metadata": {},
   "source": [
    "7. vertical bar is used as or statement, square bracket is used as range of values."
   ]
  },
  {
   "cell_type": "markdown",
   "id": "946bc64c",
   "metadata": {},
   "source": [
    "8. To avoid need for using backslashes."
   ]
  }
 ],
 "metadata": {
  "kernelspec": {
   "display_name": "Python 3 (ipykernel)",
   "language": "python",
   "name": "python3"
  },
  "language_info": {
   "codemirror_mode": {
    "name": "ipython",
    "version": 3
   },
   "file_extension": ".py",
   "mimetype": "text/x-python",
   "name": "python",
   "nbconvert_exporter": "python",
   "pygments_lexer": "ipython3",
   "version": "3.9.12"
  }
 },
 "nbformat": 4,
 "nbformat_minor": 5
}
